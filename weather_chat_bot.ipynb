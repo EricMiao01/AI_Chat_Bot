{
 "cells": [
  {
   "cell_type": "markdown",
   "metadata": {},
   "source": [
    "## Loading Package"
   ]
  },
  {
   "cell_type": "code",
   "execution_count": 2,
   "metadata": {},
   "outputs": [],
   "source": [
    "from flask import Flask, request\n",
    "\n",
    "# LINE BOT API related\n",
    "from linebot import LineBotApi, WebhookHandler\n",
    "from linebot.models import MessageEvent, TextMessage, TextSendMessage\n",
    "\n",
    "# others\n",
    "import requests, json, time"
   ]
  },
  {
   "cell_type": "code",
   "execution_count": 3,
   "metadata": {},
   "outputs": [],
   "source": [
    "access_token = 'DmNJ+OQnnRv7W0q8vCqtiMV0teDV1UKWNCVt9acUxkXAdNkqaLwZIgZCiNmlb1Ks0pQXtBnbMsoF3Oss7QP/dowzxA/0yZqGTMyIbaXqdJbAkeUCZ2e+jghUGF6YnxfW9QzYR8VM62Qsqu8ikuDqIQdB04t89/1O/w1cDnyilFU='\n",
    "channel_secret = '1c204137165b50e8812555034f2e10d6'"
   ]
  },
  {
   "cell_type": "markdown",
   "metadata": {},
   "source": [
    "## Trying to show the data we will receive"
   ]
  },
  {
   "cell_type": "code",
   "execution_count": 4,
   "metadata": {},
   "outputs": [
    {
     "name": "stdout",
     "output_type": "stream",
     "text": [
      " * Serving Flask app '__main__'\n",
      " * Debug mode: off\n"
     ]
    },
    {
     "name": "stderr",
     "output_type": "stream",
     "text": [
      "WARNING: This is a development server. Do not use it in a production deployment. Use a production WSGI server instead.\n",
      " * Running on http://127.0.0.1:5000\n",
      "Press CTRL+C to quit\n",
      "C:\\Users\\EricMiao\\AppData\\Local\\Temp\\ipykernel_30668\\3770624354.py:7: LineBotSdkDeprecatedIn30: Call to deprecated class LineBotApi. (Use v3 class; linebot.v3.<feature>. See https://github.com/line/line-bot-sdk-python/blob/master/README.rst for more details.) -- Deprecated since version 3.0.0.\n",
      "  line_bot_api = LineBotApi(access_token)             # Verify if the token is correct\n",
      "C:\\Users\\EricMiao\\AppData\\Local\\Temp\\ipykernel_30668\\3770624354.py:8: LineBotSdkDeprecatedIn30: Call to deprecated class WebhookHandler. (Use 'from linebot.v3.webhook import WebhookHandler' instead. See https://github.com/line/line-bot-sdk-python/blob/master/README.rst for more details.) -- Deprecated since version 3.0.0.\n",
      "  handler = WebhookHandler(channel_secret)            # Verify if the secret is correct\n",
      "127.0.0.1 - - [05/Jan/2024 17:22:15] \"POST / HTTP/1.1\" 200 -\n"
     ]
    },
    {
     "name": "stdout",
     "output_type": "stream",
     "text": [
      "{'destination': 'U4a1b36783e217b8b4fcdb2a18abd32f5', 'events': [{'type': 'message', 'message': {'type': 'text', 'id': '489249171837551057', 'quoteToken': 'spV-4_rJIDsJdZbs--2b8LFECPi8Ebz3oOe5BhOFMRmA54AMk04ox7Opvh8bkuYtkQAu-6ZbEavgQdYGoPVjMmHpoMhpBKykhP5Ai-v6sLCXoc8HTtIm9xUiV_SEqVEa-eB9DqJeoPfZMNgAqk5y8A', 'text': 'Hello my friend'}, 'webhookEventId': '01HKCEW9S05613NC4H8261BH45', 'deliveryContext': {'isRedelivery': False}, 'timestamp': 1704446534949, 'source': {'type': 'user', 'userId': 'U5118169534cb5dc073b0c8e3f7ee5751'}, 'replyToken': 'c60dec017cd142a298b70bdc6b3ebfa4', 'mode': 'active'}]}\n"
     ]
    }
   ],
   "source": [
    "app = Flask(__name__)\n",
    "\n",
    "@app.route(\"/\", methods=['POST'])\n",
    "def linebott():\n",
    "    body = request.get_data(as_text=True)\n",
    "    try:\n",
    "        line_bot_api = LineBotApi(access_token)             # Verify if the token is correct\n",
    "        handler = WebhookHandler(channel_secret)            # Verify if the secret is correct\n",
    "        signature = request.headers['X-Line-Signature']     # Include the return headers\n",
    "        handler.handle(body, signature)                     # Bind the message and signature\n",
    "\n",
    "        json_data = json.loads(body)\n",
    "        reply_token = json_data['events'][0]['replyToken']\n",
    "        user_id = json_data['events'][0]['source']['userId']     # Get the user ID for push message\n",
    "        print(json_data)\n",
    "\n",
    "    except Exception as e:\n",
    "        print('error')\n",
    "        print('reason:', e)\n",
    "    return 'OK'\n",
    "\n",
    "app.run()"
   ]
  },
  {
   "cell_type": "code",
   "execution_count": null,
   "metadata": {},
   "outputs": [],
   "source": []
  }
 ],
 "metadata": {
  "kernelspec": {
   "display_name": "main",
   "language": "python",
   "name": "python3"
  },
  "language_info": {
   "codemirror_mode": {
    "name": "ipython",
    "version": 3
   },
   "file_extension": ".py",
   "mimetype": "text/x-python",
   "name": "python",
   "nbconvert_exporter": "python",
   "pygments_lexer": "ipython3",
   "version": "3.11.5"
  }
 },
 "nbformat": 4,
 "nbformat_minor": 2
}
